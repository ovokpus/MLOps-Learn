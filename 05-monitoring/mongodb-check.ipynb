{
 "cells": [
  {
   "cell_type": "code",
   "execution_count": 1,
   "id": "f651a9c3-223c-4851-99c6-779bf8fa0b40",
   "metadata": {},
   "outputs": [],
   "source": [
    "import pymongo"
   ]
  },
  {
   "cell_type": "code",
   "execution_count": 2,
   "id": "6b5422f0-ec6c-4bcd-944e-c8a78d68ae74",
   "metadata": {},
   "outputs": [],
   "source": [
    "client = pymongo.MongoClient('mongodb://localhost:27018')\n",
    "db = client.get_database('prediction_service')"
   ]
  },
  {
   "cell_type": "code",
   "execution_count": 3,
   "id": "25417610-6d92-4c99-ac74-13e5fca62092",
   "metadata": {},
   "outputs": [],
   "source": [
    "data_collection = db.get_collection(\"data\")"
   ]
  },
  {
   "cell_type": "code",
   "execution_count": 4,
   "id": "2a6c3a43-1280-472b-9a50-4bf5f59225b1",
   "metadata": {},
   "outputs": [],
   "source": [
    "data = list(data_collection.find())"
   ]
  },
  {
   "cell_type": "code",
   "execution_count": 7,
   "id": "3c470382-1b96-44a9-8c38-0e18954e7dc1",
   "metadata": {},
   "outputs": [
    {
     "data": {
      "text/plain": [
       "{'_id': ObjectId('62c3b02f519344f69baea804'),\n",
       " 'VendorID': 2,\n",
       " 'lpep_pickup_datetime': '2022-01-01T00:14:21',\n",
       " 'lpep_dropoff_datetime': '2022-01-01T00:15:33',\n",
       " 'store_and_fwd_flag': 'N',\n",
       " 'RatecodeID': 1.0,\n",
       " 'PULocationID': 42,\n",
       " 'DOLocationID': 42,\n",
       " 'passenger_count': 1.0,\n",
       " 'trip_distance': 0.44,\n",
       " 'fare_amount': 3.5,\n",
       " 'extra': 0.5,\n",
       " 'mta_tax': 0.5,\n",
       " 'tip_amount': 0.0,\n",
       " 'tolls_amount': 0.0,\n",
       " 'ehail_fee': None,\n",
       " 'improvement_surcharge': 0.3,\n",
       " 'total_amount': 4.8,\n",
       " 'payment_type': 2.0,\n",
       " 'trip_type': 1.0,\n",
       " 'congestion_surcharge': 0.0,\n",
       " 'id': '49bd08f2-e5d6-4fab-ab57-fd445c269c60',\n",
       " 'PU_DO': '42_42',\n",
       " 'prediction': 5.1187076614244305,\n",
       " 'target': 1.2}"
      ]
     },
     "execution_count": 7,
     "metadata": {},
     "output_type": "execute_result"
    }
   ],
   "source": [
    "data[0]"
   ]
  },
  {
   "cell_type": "code",
   "execution_count": 8,
   "id": "1571dbe6-3cf6-436e-8388-f1e8f89652b8",
   "metadata": {},
   "outputs": [
    {
     "data": {
      "text/plain": [
       "1018"
      ]
     },
     "execution_count": 8,
     "metadata": {},
     "output_type": "execute_result"
    }
   ],
   "source": [
    "len(data)"
   ]
  },
  {
   "cell_type": "code",
   "execution_count": null,
   "id": "4338a3b2-6185-45cc-9dee-3f224dd1f1bf",
   "metadata": {},
   "outputs": [],
   "source": []
  }
 ],
 "metadata": {
  "kernelspec": {
   "display_name": "Python 3 (ipykernel)",
   "language": "python",
   "name": "python3"
  },
  "language_info": {
   "codemirror_mode": {
    "name": "ipython",
    "version": 3
   },
   "file_extension": ".py",
   "mimetype": "text/x-python",
   "name": "python",
   "nbconvert_exporter": "python",
   "pygments_lexer": "ipython3",
   "version": "3.8.10"
  }
 },
 "nbformat": 4,
 "nbformat_minor": 5
}
